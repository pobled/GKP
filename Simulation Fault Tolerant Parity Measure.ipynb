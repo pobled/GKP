{
 "cells": [
  {
   "cell_type": "code",
   "execution_count": 1,
   "id": "4afb6e71",
   "metadata": {},
   "outputs": [],
   "source": [
    "from qutip import *\n",
    "from qutip.measurement import measure, measurement_statistics\n",
    "import numpy as np\n",
    "import matplotlib.pyplot as plt\n"
   ]
  },
  {
   "cell_type": "code",
   "execution_count": 217,
   "id": "ab85512f",
   "metadata": {},
   "outputs": [],
   "source": [
    "N=65\n",
    "#cavity operators\n",
    "ac = destroy(N)\n",
    "nb_op = ac.dag()*ac\n",
    "ic = qeye(N)\n",
    "#qubit operators\n",
    "aq = destroy(2)\n",
    "hq = (sigmax()+sigmaz())/np.sqrt(2)\n",
    "iq = qeye(2)\n",
    "g_proj = (iq+sigmaz())/2\n",
    "e_proj = (iq-sigmaz())/2"
   ]
  },
  {
   "cell_type": "markdown",
   "id": "b5832c4d",
   "metadata": {},
   "source": [
    "# Experimental values"
   ]
  },
  {
   "cell_type": "code",
   "execution_count": 725,
   "id": "c3df9297",
   "metadata": {},
   "outputs": [],
   "source": [
    "# frequencies\n",
    "X_e0 = 2*np.pi*-93e3\n",
    "\n",
    "X_f0 = 2*np.pi*-236e3\n",
    "\n",
    "X_g0 = 0\n",
    "\n",
    "#error times\n",
    "\n",
    "ge_decay_time = 25e-6\n",
    "fe_decay_time = 23e-6\n",
    "\n",
    "g_dephasing_time = 81e-6\n",
    "e_dephasing_time = 17e-6\n",
    "f_dephasing_time = 12e-6\n",
    "\n",
    "photon_loss_time = 1.07e-3\n",
    "\n",
    "#transmon thermal population\n",
    "n_th = 0.025\n"
   ]
  },
  {
   "cell_type": "markdown",
   "id": "421bf2b3",
   "metadata": {},
   "source": [
    "# Initial state"
   ]
  },
  {
   "cell_type": "code",
   "execution_count": 555,
   "id": "2e18e8f7",
   "metadata": {},
   "outputs": [],
   "source": [
    "alpha = np.sqrt(2)\n",
    "cat_state = (coherent(N,alpha)+coherent(N,-alpha)).unit()"
   ]
  },
  {
   "cell_type": "markdown",
   "id": "7d3fe021",
   "metadata": {},
   "source": [
    "# ge Parity Protocol"
   ]
  },
  {
   "cell_type": "code",
   "execution_count": 608,
   "id": "757103ba",
   "metadata": {},
   "outputs": [],
   "source": [
    "def ge_parity(cavity_state, collapse = []):\n",
    "    \n",
    "    H_int = X_e0*tensor(e_proj, nb_op)\n",
    "    #H_parity = X_e*tensor(sigmaz(),nb_op)\n",
    "    t = np.abs(np.pi/(X_e0))\n",
    "    \n",
    "    \n",
    "    # prepare cat state and initial state\n",
    "    psi0 = tensor((basis(2,0)+basis(2,1)).unit(), cavity_state)\n",
    "\n",
    "    result = mesolve(H_int, psi0, np.linspace(0,t,200), c_ops = collapse)  \n",
    "    \n",
    "    psi = result.states[-1]\n",
    "    \n",
    "    if psi.type =='ket':\n",
    "        psi = tensor(hq,ic)*psi\n",
    "    elif psi.type == 'oper':\n",
    "        psi = tensor(hq,ic)*psi*tensor(hq,ic).dag()\n",
    "        \n",
    "    return psi, result.states[-1]"
   ]
  },
  {
   "cell_type": "code",
   "execution_count": 609,
   "id": "70f7f74a",
   "metadata": {},
   "outputs": [],
   "source": [
    "ge_no_error, _ = ge_parity(cat_state)"
   ]
  },
  {
   "cell_type": "code",
   "execution_count": 610,
   "id": "d557e7b2",
   "metadata": {},
   "outputs": [
    {
     "data": {
      "text/latex": [
       "Quantum object: dims = [[2], [2]], shape = (2, 2), type = oper, isherm = True\\begin{equation*}\\left(\\begin{array}{*{11}c}1.000 & (4.589\\times10^{-05}-7.066\\times10^{-06}j)\\\\(4.589\\times10^{-05}+7.066\\times10^{-06}j) & 5.704\\times10^{-09}\\\\\\end{array}\\right)\\end{equation*}"
      ],
      "text/plain": [
       "Quantum object: dims = [[2], [2]], shape = (2, 2), type = oper, isherm = True\n",
       "Qobj data =\n",
       "[[9.99999994e-01+0.00000000e+00j 4.58912264e-05-7.06603436e-06j]\n",
       " [4.58912264e-05+7.06603436e-06j 5.70372771e-09+0.00000000e+00j]]"
      ]
     },
     "execution_count": 610,
     "metadata": {},
     "output_type": "execute_result"
    }
   ],
   "source": [
    "ge_no_error.ptrace(0)"
   ]
  },
  {
   "cell_type": "code",
   "execution_count": 611,
   "id": "c805d69f",
   "metadata": {},
   "outputs": [
    {
     "data": {
      "text/plain": [
       "1.0000035159613805"
      ]
     },
     "execution_count": 611,
     "metadata": {},
     "output_type": "execute_result"
    }
   ],
   "source": [
    "fidelity(ge_no_error.ptrace(1), ket2dm(cat_state))"
   ]
  },
  {
   "cell_type": "markdown",
   "id": "56cd116b",
   "metadata": {},
   "source": [
    "## Relaxation error added"
   ]
  },
  {
   "cell_type": "code",
   "execution_count": 739,
   "id": "5a6c2701",
   "metadata": {},
   "outputs": [],
   "source": [
    "#collapse operator for relaxation\n",
    "relax_error_rate_ge = np.sqrt(1/ge_decay_time)\n",
    "relax_ge = tensor(relax_error_rate_ge*sigmap(),ic)"
   ]
  },
  {
   "cell_type": "code",
   "execution_count": 719,
   "id": "acda339f",
   "metadata": {},
   "outputs": [
    {
     "data": {
      "text/plain": [
       "40000.0"
      ]
     },
     "execution_count": 719,
     "metadata": {},
     "output_type": "execute_result"
    }
   ],
   "source": [
    "relax_error_rate_ge"
   ]
  },
  {
   "cell_type": "code",
   "execution_count": 705,
   "id": "32734ac2",
   "metadata": {},
   "outputs": [],
   "source": [
    "psi_ge_relax, re = ge_parity(cat_state, [relax_ge])"
   ]
  },
  {
   "cell_type": "code",
   "execution_count": 706,
   "id": "7d34af93",
   "metadata": {},
   "outputs": [
    {
     "data": {
      "text/latex": [
       "Quantum object: dims = [[2], [2]], shape = (2, 2), type = oper, isherm = False\\begin{equation*}\\left(\\begin{array}{*{11}c}0.949 & (0.097+1.474\\times10^{-07}j)\\\\(0.097-1.474\\times10^{-07}j) & 0.051\\\\\\end{array}\\right)\\end{equation*}"
      ],
      "text/plain": [
       "Quantum object: dims = [[2], [2]], shape = (2, 2), type = oper, isherm = False\n",
       "Qobj data =\n",
       "[[0.9490245 +0.00000000e+00j 0.09675096+1.47396479e-07j]\n",
       " [0.09675096-1.47396479e-07j 0.0509755 +0.00000000e+00j]]"
      ]
     },
     "execution_count": 706,
     "metadata": {},
     "output_type": "execute_result"
    }
   ],
   "source": [
    "psi_ge_relax.ptrace(0)"
   ]
  },
  {
   "cell_type": "code",
   "execution_count": 707,
   "id": "6a1abefc",
   "metadata": {},
   "outputs": [
    {
     "data": {
      "text/plain": [
       "0.9698373137953185"
      ]
     },
     "execution_count": 707,
     "metadata": {},
     "output_type": "execute_result"
    }
   ],
   "source": [
    "fidelity(ket2dm(cat_state),psi_ge_relax.ptrace(1))"
   ]
  },
  {
   "cell_type": "markdown",
   "id": "e11cd02f",
   "metadata": {},
   "source": [
    "## Dephasing error added"
   ]
  },
  {
   "cell_type": "code",
   "execution_count": 738,
   "id": "57526332",
   "metadata": {},
   "outputs": [],
   "source": [
    "# collapse operator for dephasing\n",
    "dephase_error_rate_g = np.sqrt(1/g_dephasing_time)\n",
    "dephase_g = tensor(dephase_error_rate_g*basis(2,0).proj(),ic)\n",
    "\n",
    "dephase_error_rate_e = np.sqrt(1/e_dephasing_time)\n",
    "dephase_e = tensor(dephase_error_rate_e*basis(2,1).proj(),ic)"
   ]
  },
  {
   "cell_type": "code",
   "execution_count": 694,
   "id": "61e83824",
   "metadata": {},
   "outputs": [
    {
     "data": {
      "text/latex": [
       "Quantum object: dims = [[2], [2]], shape = (2, 2), type = oper, isherm = True\\begin{equation*}\\left(\\begin{array}{*{11}c}1.0 & 0.0\\\\0.0 & 0.0\\\\\\end{array}\\right)\\end{equation*}"
      ],
      "text/plain": [
       "Quantum object: dims = [[2], [2]], shape = (2, 2), type = oper, isherm = True\n",
       "Qobj data =\n",
       "[[1. 0.]\n",
       " [0. 0.]]"
      ]
     },
     "execution_count": 694,
     "metadata": {},
     "output_type": "execute_result"
    }
   ],
   "source": []
  },
  {
   "cell_type": "code",
   "execution_count": 721,
   "id": "cd92b601",
   "metadata": {},
   "outputs": [],
   "source": [
    "psi_ge_dephase, _ = ge_parity(cat_state, [dephase_g, dephase_e])"
   ]
  },
  {
   "cell_type": "code",
   "execution_count": 724,
   "id": "9b547cce",
   "metadata": {},
   "outputs": [
    {
     "data": {
      "text/latex": [
       "Quantum object: dims = [[2], [2]], shape = (2, 2), type = oper, isherm = True\\begin{equation*}\\left(\\begin{array}{*{11}c}0.500 & -1.511\\times10^{-09}j\\\\1.511\\times10^{-09}j & 0.500\\\\\\end{array}\\right)\\end{equation*}"
      ],
      "text/plain": [
       "Quantum object: dims = [[2], [2]], shape = (2, 2), type = oper, isherm = True\n",
       "Qobj data =\n",
       "[[0.5+0.00000000e+00j 0. -1.51076601e-09j]\n",
       " [0. +1.51076601e-09j 0.5+0.00000000e+00j]]"
      ]
     },
     "execution_count": 724,
     "metadata": {},
     "output_type": "execute_result"
    }
   ],
   "source": [
    "psi_ge_dephase.ptrace(0)"
   ]
  },
  {
   "cell_type": "code",
   "execution_count": 711,
   "id": "24f6f2cf",
   "metadata": {},
   "outputs": [
    {
     "data": {
      "text/plain": [
       "1.0000025189996693"
      ]
     },
     "execution_count": 711,
     "metadata": {},
     "output_type": "execute_result"
    }
   ],
   "source": [
    "fidelity(ket2dm(cat_state),psi_ge_dephase.ptrace(1))"
   ]
  },
  {
   "cell_type": "markdown",
   "id": "1c4de79e",
   "metadata": {},
   "source": [
    "## all errors added"
   ]
  },
  {
   "cell_type": "code",
   "execution_count": 740,
   "id": "4d5a3d13",
   "metadata": {},
   "outputs": [],
   "source": [
    "photon_loss_rate = np.sqrt(1/photon_loss_time)\n",
    "photon_loss = photon_loss_rate*tensor(iq,ac)\n",
    "\n",
    "thermal_population_rate = np.sqrt(n_th/ge_decay_time)\n",
    "thermal_population = thermal_population_rate*tensor(sigmam(),ic)\n",
    "\n",
    "all_errors = [relax_ge, dephase_g, dephase_e, photon_loss, thermal_population]"
   ]
  },
  {
   "cell_type": "code",
   "execution_count": 741,
   "id": "6b846aab",
   "metadata": {},
   "outputs": [
    {
     "data": {
      "text/plain": [
       "31.622776601683793"
      ]
     },
     "execution_count": 741,
     "metadata": {},
     "output_type": "execute_result"
    }
   ],
   "source": [
    "thermal_population_rate"
   ]
  },
  {
   "cell_type": "code",
   "execution_count": 742,
   "id": "226365f5",
   "metadata": {},
   "outputs": [],
   "source": [
    "psi_ge_errors,_ = ge_parity(cat_state, all_errors)"
   ]
  },
  {
   "cell_type": "code",
   "execution_count": 743,
   "id": "52a5f09c",
   "metadata": {},
   "outputs": [
    {
     "data": {
      "text/latex": [
       "Quantum object: dims = [[2], [2]], shape = (2, 2), type = oper, isherm = False\\begin{equation*}\\left(\\begin{array}{*{11}c}0.866 & (0.094-0.002j)\\\\(0.094+0.002j) & 0.134\\\\\\end{array}\\right)\\end{equation*}"
      ],
      "text/plain": [
       "Quantum object: dims = [[2], [2]], shape = (2, 2), type = oper, isherm = False\n",
       "Qobj data =\n",
       "[[0.86627578+0.j         0.09408812-0.00225156j]\n",
       " [0.09408812+0.00225156j 0.13372422+0.j        ]]"
      ]
     },
     "execution_count": 743,
     "metadata": {},
     "output_type": "execute_result"
    }
   ],
   "source": [
    "psi_ge_errors.ptrace(0)"
   ]
  },
  {
   "cell_type": "code",
   "execution_count": 761,
   "id": "8c1f80e1",
   "metadata": {},
   "outputs": [
    {
     "data": {
      "text/plain": [
       "(array([0.12182598+3.34093362e-15j, 0.87817402-3.34049994e-15j]),\n",
       " array([Quantum object: dims = [[2], [1]], shape = (2, 1), type = ket\n",
       "        Qobj data =\n",
       "        [[-0.12538807+0.00300058j]\n",
       "         [ 0.99210323+0.j        ]]                                  ,\n",
       "        Quantum object: dims = [[2], [1]], shape = (2, 1), type = ket\n",
       "        Qobj data =\n",
       "        [[0.99210323+0.j        ]\n",
       "         [0.12538807+0.00300058j]]                                   ],\n",
       "       dtype=object))"
      ]
     },
     "execution_count": 761,
     "metadata": {},
     "output_type": "execute_result"
    }
   ],
   "source": [
    "psi_ge_errors.ptrace(0).eigenstates()"
   ]
  },
  {
   "cell_type": "code",
   "execution_count": 746,
   "id": "6c18d466",
   "metadata": {},
   "outputs": [
    {
     "data": {
      "text/plain": [
       "0.9643455982154799"
      ]
     },
     "execution_count": 746,
     "metadata": {},
     "output_type": "execute_result"
    }
   ],
   "source": [
    "fidelity(ket2dm(cat_state),psi_ge_errors.ptrace(1))"
   ]
  },
  {
   "cell_type": "markdown",
   "id": "651b6365",
   "metadata": {},
   "source": [
    "# gf Parity Protocol"
   ]
  },
  {
   "cell_type": "code",
   "execution_count": 750,
   "id": "a9cfdc2c",
   "metadata": {},
   "outputs": [],
   "source": [
    "#Three level ancilla operators\n",
    "a3 = destroy(3)\n",
    "\n",
    "half_pi_pulse_ge = Qobj([[1,1j,0],[1j,1,0],[0,0,np.sqrt(2)]]/np.sqrt(2))\n",
    "\n",
    "pi_pulse_ef = Qobj([[1,0,0],[0,0,1j],[0,1j,0]])\n",
    "\n",
    "iq3 = qeye(3)\n",
    "g_proj3 = Qobj([[1,0,0],[0,0,0],[0,0,0]])\n",
    "e_proj3 = Qobj([[0,0,0],[0,1,0],[0,0,0]])\n",
    "f_proj3 = Qobj([[0,0,0],[0,0,0],[0,0,1]])\n",
    "fe_proj = Qobj([[0,0,0],[0,0,1],[0,0,0]])"
   ]
  },
  {
   "cell_type": "code",
   "execution_count": 751,
   "id": "5f585f1d",
   "metadata": {},
   "outputs": [],
   "source": [
    "def gf_parity(cavity, collapse = []):\n",
    "    chi = 1\n",
    "    alpha = np.sqrt(2)\n",
    "    nb_op = ac.dag()*ac\n",
    "\n",
    "    H_int = X_e0*tensor(e_proj3, nb_op)+X_e0*tensor(f_proj3,nb_op)\n",
    "    t = np.pi/np.abs(X_f0-X_g0)\n",
    "    \n",
    "    \n",
    "    # prepare initial state\n",
    "    qubit = basis(3,0)\n",
    "    qubit = half_pi_pulse_ge*qubit\n",
    "    qubit = pi_pulse_ef*qubit\n",
    "    psi0 = tensor(qubit,cavity) \n",
    "    \n",
    "    \n",
    "    #result = mesolve(H_int, psi0, np.linspace(0,t,100))\n",
    "    result = mesolve(H_int, psi0, np.linspace(0,t,100), c_ops = collapse)\n",
    "    \n",
    "    \n",
    "    psi = result.states[-1]\n",
    "    if psi.type == 'ket':\n",
    "        psi = tensor(pi_pulse_ef,ic)*psi\n",
    "        psi = tensor(half_pi_pulse_ge,ic)*psi\n",
    "    elif psi.type == 'oper':\n",
    "        psi = tensor(pi_pulse_ef,ic)*psi*tensor(pi_pulse_ef,ic).dag()\n",
    "        psi = tensor(half_pi_pulse_ge,ic)*psi*tensor(half_pi_pulse_ge,ic).dag()\n",
    "    \n",
    "    return psi"
   ]
  },
  {
   "cell_type": "code",
   "execution_count": 755,
   "id": "b4ba99a4",
   "metadata": {},
   "outputs": [],
   "source": [
    "#error operators\n",
    "relax_error_rate_fe = np.sqrt(1/fe_decay_time)\n",
    "relax_fe = relax_error_rate_fe*tensor(fe_proj,ic)"
   ]
  },
  {
   "cell_type": "code",
   "execution_count": 756,
   "id": "91c422b7",
   "metadata": {},
   "outputs": [],
   "source": [
    "psi_gf = gf_parity(cat_state)"
   ]
  },
  {
   "cell_type": "code",
   "execution_count": 757,
   "id": "e0c43c26",
   "metadata": {},
   "outputs": [
    {
     "data": {
      "text/plain": [
       "0.7217142752781164"
      ]
     },
     "execution_count": 757,
     "metadata": {},
     "output_type": "execute_result"
    }
   ],
   "source": [
    "fidelity(psi_gf.ptrace(1),(coherent(N,alpha)+coherent(N,-alpha)).unit())"
   ]
  },
  {
   "cell_type": "code",
   "execution_count": 758,
   "id": "9a1e47c0",
   "metadata": {},
   "outputs": [
    {
     "data": {
      "text/latex": [
       "Quantum object: dims = [[3], [3]], shape = (3, 3), type = oper, isherm = True\\begin{equation*}\\left(\\begin{array}{*{11}c}0.449 & (0.088-2.811\\times10^{-05}j) & 0.0\\\\(0.088+2.811\\times10^{-05}j) & 0.551 & 0.0\\\\0.0 & 0.0 & 0.0\\\\\\end{array}\\right)\\end{equation*}"
      ],
      "text/plain": [
       "Quantum object: dims = [[3], [3]], shape = (3, 3), type = oper, isherm = True\n",
       "Qobj data =\n",
       "[[0.44902992+0.00000000e+00j 0.08844075-2.81094047e-05j\n",
       "  0.        +0.00000000e+00j]\n",
       " [0.08844075+2.81094047e-05j 0.55097008+0.00000000e+00j\n",
       "  0.        +0.00000000e+00j]\n",
       " [0.        +0.00000000e+00j 0.        +0.00000000e+00j\n",
       "  0.        +0.00000000e+00j]]"
      ]
     },
     "execution_count": 758,
     "metadata": {},
     "output_type": "execute_result"
    }
   ],
   "source": [
    "psi_gf.ptrace(0)"
   ]
  }
 ],
 "metadata": {
  "kernelspec": {
   "display_name": "Python 3 (ipykernel)",
   "language": "python",
   "name": "python3"
  },
  "language_info": {
   "codemirror_mode": {
    "name": "ipython",
    "version": 3
   },
   "file_extension": ".py",
   "mimetype": "text/x-python",
   "name": "python",
   "nbconvert_exporter": "python",
   "pygments_lexer": "ipython3",
   "version": "3.9.13"
  }
 },
 "nbformat": 4,
 "nbformat_minor": 5
}
