{
 "cells": [
  {
   "cell_type": "code",
   "execution_count": 186,
   "id": "5e12ae1e",
   "metadata": {},
   "outputs": [],
   "source": [
    "from qutip import *\n",
    "from qutip.measurement import measure, measurement_statistics\n",
    "import numpy as np\n",
    "import matplotlib.pyplot as plt\n",
    "import math\n",
    "import random"
   ]
  },
  {
   "cell_type": "code",
   "execution_count": 348,
   "id": "73f6f439",
   "metadata": {},
   "outputs": [],
   "source": [
    "#parameters\n",
    "N = 65"
   ]
  },
  {
   "cell_type": "code",
   "execution_count": 349,
   "id": "e297862a",
   "metadata": {},
   "outputs": [],
   "source": [
    "#cavity operators\n",
    "ac = tensor(qeye(2),destroy(N))\n",
    "xc = (ac+ac.dag())/np.sqrt(2)\n",
    "pc = 1j*(ac.dag()-ac)/np.sqrt(2)\n",
    "ic = qeye(N)\n",
    "cavity = basis(N)"
   ]
  },
  {
   "cell_type": "code",
   "execution_count": 350,
   "id": "b68e36f3",
   "metadata": {},
   "outputs": [],
   "source": [
    "#qubit operators\n",
    "aq = tensor(destroy(2),qeye(N))\n",
    "xq = (aq+aq.dag())/np.sqrt(2)\n",
    "pq = 1j*(aq.dag()-aq)/np.sqrt(2)\n",
    "hq = (sigmax()+sigmaz())/np.sqrt(2)\n",
    "iq = qeye(2)\n",
    "qubit = basis(2)\n",
    "\n",
    "#controlled gates\n",
    "cD = tensor(0.5*sigmaz()+0.5*qeye(2),qeye(N))+tensor(-0.5*sigmaz()+0.5*qeye(2),displace(N, np.sqrt(2*np.pi)))\n",
    "\n",
    "cDsym = tensor(0.5*sigmaz()+0.5*qeye(2),displace(N, -np.sqrt(2*np.pi)))+tensor(-0.5*sigmaz()+0.5*qeye(2),displace(N, np.sqrt(2*np.pi)))\n"
   ]
  },
  {
   "cell_type": "code",
   "execution_count": 351,
   "id": "304ea63c",
   "metadata": {},
   "outputs": [],
   "source": [
    "# This function gives the probabilities for each string of 0's and 1's \n",
    "# for running the phase estimation protocol M times\n",
    "# It can give the exact result or an approximation\n",
    "\n",
    "def get_prob(M, exact = False):\n",
    "    \n",
    "    prob_real_exact = []\n",
    "    prob_real_approx = []\n",
    "    for k in range(M+1):\n",
    "\n",
    "        prob_approx = 0\n",
    "        prob_exact = 0\n",
    "\n",
    "        for p1 in range(2*k+1):\n",
    "            for p2 in range(2*(M-k)+1):\n",
    "                prob_exact+=math.comb(2*k,p1)*math.comb(2*(M-k),p2)*( (-1)**(M-k+p2) )*np.exp(-np.pi*(p1+p2-M)**2)\n",
    "\n",
    "                if p1+p2 == M: # this is the approximation for big alpha\n",
    "                    prob_approx+=math.comb(2*k,p1)*math.comb(2*(M-k),p2)*( (-1)**(M-k+p2) )\n",
    "\n",
    "        #Probability is multiplied by multiplicity\n",
    "        prob_real_exact.append(math.comb(M,k)*prob_exact/2**(2*M))\n",
    "        prob_real_approx.append(math.comb(M,k)*prob_approx/2**(2*M))\n",
    "    \n",
    "    if exact:\n",
    "        return prob_real_exact\n",
    "    return prob_real_approx"
   ]
  },
  {
   "cell_type": "code",
   "execution_count": 405,
   "id": "53420752",
   "metadata": {},
   "outputs": [],
   "source": [
    "# qpe algorithm\n",
    "\n",
    "# This algorithm automatically repeats the protocol using the built-in qutip measure function\n",
    "\n",
    "\n",
    "def qpe(psi0, N, rep = 1, theta = 0):\n",
    "    \n",
    "    phase1 = qdiags([1,np.exp(1j*theta)], offsets=0)    \n",
    "    phase2 = qdiags([1,np.exp(1j*(theta+np.pi/2))], offsets=0)\n",
    "    projq = [tensor(ket2dm(basis(2,0)), qeye(N)), tensor(ket2dm(basis(2,1)), qeye(N))]\n",
    "    \n",
    "    measures1 = []\n",
    "    measures2 = []\n",
    "    fct1 = []\n",
    "    psi = psi0\n",
    "    \n",
    "    for i in range(rep):\n",
    "        #set qubit to ground state\n",
    "        if psi.ptrace(0)!= ket2dm(basis(2)):\n",
    "            psi = tensor(sigmax(),ic)*psi\n",
    "        \n",
    "        psi = tensor(hq,ic)*psi\n",
    "        psi = tensor(iq,displace(N, -np.sqrt(np.pi/2)))*psi\n",
    "        psi = cD*psi\n",
    "        \n",
    "        #measure cos for half the rounds and sin in half the rounds\n",
    "        if i<rep/2:\n",
    "            psi1 = tensor(phase1,ic)*psi\n",
    "        else:\n",
    "            psi = tensor(phase2,ic)*psi\n",
    "        \n",
    "        psi = tensor(hq,ic)*psi\n",
    "        \n",
    "        m, psi = measure(psi, projq)\n",
    "        \n",
    "        # put measures for cos and sin in different \n",
    "        if i<rep/2:\n",
    "            measures1.append(m)\n",
    "        else:\n",
    "            measures2.append(m)\n",
    "        \n",
    "        fct1.append(psi)        \n",
    "    \n",
    "    return measures1, measures2, fct1"
   ]
  },
  {
   "cell_type": "code",
   "execution_count": 398,
   "id": "bbc118cf",
   "metadata": {},
   "outputs": [],
   "source": [
    "# qpe algorithm\n",
    "\n",
    "# This function does not repeat the phase estimation protocol. It only runs once and does not measure the system.\n",
    "# It returns both states and their probability.\n",
    "def qpe1(psi0, N, theta = 0):\n",
    "    \n",
    "    phase = qdiags([1,np.exp(1j*theta)], offsets=0)    \n",
    "    projq = [tensor(ket2dm(basis(2,0)), qeye(N)), tensor(ket2dm(basis(2,1)), qeye(N))]\n",
    "    \n",
    "    psi = tensor(hq,ic)*psi0\n",
    "    psi = tensor(iq,displace(N, -np.sqrt(np.pi/2)))*psi\n",
    "    psi = cD*psi\n",
    "    psi = tensor(phase,ic)*psi\n",
    "    psi = tensor(hq,ic)*psi\n",
    "    \n",
    "    return measurement_statistics(psi, projq)\n",
    "\n",
    "# This function repeats the previous qpe using an rng.\n",
    "# It returns a list of each state measured, their probabilities and their eigenvalue.\n",
    "def qpe_rep_random(psi0, rep):\n",
    "    psi = psi0\n",
    "    state_list = []\n",
    "    prob_list = []\n",
    "    measure_list = []\n",
    "    for i in range(rep):\n",
    "        if psi.ptrace(0) != ket2dm(basis(2)): #if qubit not in state |0>\n",
    "            psi = tensor(sigmax(), ic)*psi\n",
    "        \n",
    "        state,p = qpe1(psi,N)\n",
    "        rand = random.choices([0,1], weights = p)\n",
    "        psi = state[rand[0]]\n",
    "        state_list.append(psi)\n",
    "        prob_list.append(p[rand[0]])\n",
    "        measure_list.append(rand[0])\n",
    "    \n",
    "    return state_list,prob_list, measure_list"
   ]
  },
  {
   "cell_type": "code",
   "execution_count": 388,
   "id": "dde46191",
   "metadata": {},
   "outputs": [
    {
     "name": "stdout",
     "output_type": "stream",
     "text": [
      "8\n"
     ]
    }
   ],
   "source": [
    "#initial function\n",
    "psi0 = tensor(qubit,cavity)\n",
    "\n",
    "#angle\n",
    "theta = 0\n",
    "\n",
    "#number of reps\n",
    "reps = int(np.floor(np.sqrt(N)))\n",
    "print(reps)"
   ]
  },
  {
   "cell_type": "code",
   "execution_count": 406,
   "id": "d418739b",
   "metadata": {},
   "outputs": [],
   "source": [
    "#Statistical analysis for qpe_rep_random\n",
    "\n",
    "m = 100\n",
    "M=2\n",
    "count0 = []\n",
    "count1 = []\n",
    "for i in range(m):\n",
    "\n",
    "    states, probs, measures = qpe_rep_random(psi0,M)\n",
    "    count0.append(measures.count(0))\n",
    "    count1.append(measures.count(1))\n",
    "\n"
   ]
  },
  {
   "cell_type": "code",
   "execution_count": 408,
   "id": "cde59902",
   "metadata": {},
   "outputs": [
    {
     "data": {
      "text/plain": [
       "(array([39.,  0.,  0.,  0.,  0., 30.,  0.,  0.,  0., 31.]),\n",
       " array([0. , 0.2, 0.4, 0.6, 0.8, 1. , 1.2, 1.4, 1.6, 1.8, 2. ]),\n",
       " <BarContainer object of 10 artists>)"
      ]
     },
     "execution_count": 408,
     "metadata": {},
     "output_type": "execute_result"
    },
    {
     "data": {
      "image/png": "[encoded data removed]",
      "text/plain": [
       "<Figure size 640x480 with 1 Axes>"
      ]
     },
     "metadata": {},
     "output_type": "display_data"
    }
   ],
   "source": [
    "total_nb0 = [count0.count(i) for i in range(M+1)]\n",
    "total_nb1 = [count1.count(i) for i in range(M+1)]\n",
    "\n",
    "prob_nb0 = [i/m for i in total_nb0]\n",
    "prob_nb1 = [i/m for i in total_nb1]\n",
    "plt.hist(count0)"
   ]
  },
  {
   "cell_type": "code",
   "execution_count": 409,
   "id": "204105fd",
   "metadata": {},
   "outputs": [
    {
     "data": {
      "text/plain": [
       "[0.39, 0.3, 0.31]"
      ]
     },
     "execution_count": 409,
     "metadata": {},
     "output_type": "execute_result"
    }
   ],
   "source": [
    "prob_nb0"
   ]
  },
  {
   "cell_type": "code",
   "execution_count": 413,
   "id": "61bde145",
   "metadata": {},
   "outputs": [],
   "source": [
    "#Statistical analysis for qpe function\n",
    "\n",
    "m = 1000\n",
    "M=2\n",
    "nb0_real = []\n",
    "nb0_img = []\n",
    "for i in range(m):\n",
    "\n",
    "    m1,m2,psi = qpe(psi0,N,rep = 2*M)\n",
    "    nb0_real.append(m1.count(0))\n",
    "    #nb0_img.append(m2.count(0))\n",
    "   "
   ]
  },
  {
   "cell_type": "code",
   "execution_count": 414,
   "id": "124c1488",
   "metadata": {},
   "outputs": [
    {
     "data": {
      "text/plain": [
       "(array([363.,   0.,   0.,   0.,   0., 249.,   0.,   0.,   0., 388.]),\n",
       " array([0. , 0.2, 0.4, 0.6, 0.8, 1. , 1.2, 1.4, 1.6, 1.8, 2. ]),\n",
       " <BarContainer object of 10 artists>)"
      ]
     },
     "execution_count": 414,
     "metadata": {},
     "output_type": "execute_result"
    },
    {
     "data": {
      "image/png": "[encoded data removed]",
      "text/plain": [
       "<Figure size 640x480 with 1 Axes>"
      ]
     },
     "metadata": {},
     "output_type": "display_data"
    }
   ],
   "source": [
    "total_nb0 = [nb0_real.count(i) for i in range(M+1)]\n",
    "#total_nb1 = [count1.count(i) for i in range(M+1)]\n",
    "\n",
    "prob0 = [i/m for i in total_nb0]\n",
    "prob1 = [i/m for i in total_nb1]\n",
    "plt.hist(nb0_real)"
   ]
  },
  {
   "cell_type": "code",
   "execution_count": 415,
   "id": "74a4abfd",
   "metadata": {},
   "outputs": [
    {
     "data": {
      "text/plain": [
       "[0.363, 0.249, 0.388]"
      ]
     },
     "execution_count": 415,
     "metadata": {},
     "output_type": "execute_result"
    }
   ],
   "source": [
    "prob0"
   ]
  },
  {
   "cell_type": "code",
   "execution_count": 365,
   "id": "c5c2ba19",
   "metadata": {},
   "outputs": [
    {
     "data": {
      "text/plain": [
       "<matplotlib.collections.PathCollection at 0x7fe32ceb8b50>"
      ]
     },
     "execution_count": 365,
     "metadata": {},
     "output_type": "execute_result"
    },
    {
     "data": {
      "image/png": "[encoded data removed]",
      "text/plain": [
       "<Figure size 640x480 with 1 Axes>"
      ]
     },
     "metadata": {},
     "output_type": "display_data"
    }
   ],
   "source": [
    "plt.scatter([i for i in range(M+1)], prob_real_exact)"
   ]
  },
  {
   "cell_type": "code",
   "execution_count": 366,
   "id": "05b02dab",
   "metadata": {},
   "outputs": [
    {
     "data": {
      "text/plain": [
       "[0.375, 0.25, 0.375]"
      ]
     },
     "execution_count": 366,
     "metadata": {},
     "output_type": "execute_result"
    }
   ],
   "source": [
    "prob_real_approx"
   ]
  },
  {
   "cell_type": "code",
   "execution_count": 367,
   "id": "5bf0ab28",
   "metadata": {},
   "outputs": [
    {
     "data": {
      "text/plain": [
       "[0.3533934767859084, 0.24999912816441094, 0.3966073950496807]"
      ]
     },
     "execution_count": 367,
     "metadata": {},
     "output_type": "execute_result"
    }
   ],
   "source": [
    "prob_real_exact"
   ]
  },
  {
   "cell_type": "code",
   "execution_count": 394,
   "id": "30384147",
   "metadata": {},
   "outputs": [],
   "source": [
    "test = tensor(basis(2),basis(N))"
   ]
  },
  {
   "cell_type": "code",
   "execution_count": 396,
   "id": "5039a829",
   "metadata": {},
   "outputs": [
    {
     "data": {
      "text/latex": [
       "Quantum object: dims = [[2], [2]], shape = (2, 2), type = oper, isherm = True\\begin{equation*}\\left(\\begin{array}{*{11}c}1.0 & 0.0\\\\0.0 & 0.0\\\\\\end{array}\\right)\\end{equation*}"
      ],
      "text/plain": [
       "Quantum object: dims = [[2], [2]], shape = (2, 2), type = oper, isherm = True\n",
       "Qobj data =\n",
       "[[1. 0.]\n",
       " [0. 0.]]"
      ]
     },
     "execution_count": 396,
     "metadata": {},
     "output_type": "execute_result"
    }
   ],
   "source": [
    "test.ptrace(0)"
   ]
  },
  {
   "cell_type": "code",
   "execution_count": null,
   "id": "7be3a367",
   "metadata": {},
   "outputs": [],
   "source": []
  }
 ],
 "metadata": {
  "kernelspec": {
   "display_name": "Python 3 (ipykernel)",
   "language": "python",
   "name": "python3"
  },
  "language_info": {
   "codemirror_mode": {
    "name": "ipython",
    "version": 3
   },
   "file_extension": ".py",
   "mimetype": "text/x-python",
   "name": "python",
   "nbconvert_exporter": "python",
   "pygments_lexer": "ipython3",
   "version": "3.9.13"
  }
 },
 "nbformat": 4,
 "nbformat_minor": 5
}
