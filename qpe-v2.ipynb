{
 "cells": [
  {
   "cell_type": "code",
   "execution_count": 186,
   "id": "2434fb71",
   "metadata": {},
   "outputs": [],
   "source": [
    "from qutip import *\n",
    "from qutip.measurement import measure, measurement_statistics\n",
    "import numpy as np\n",
    "import matplotlib.pyplot as plt\n",
    "import math\n",
    "import random"
   ]
  },
  {
   "cell_type": "code",
   "execution_count": 2,
   "id": "d9b2cf5e",
   "metadata": {},
   "outputs": [],
   "source": [
    "#parameters\n",
    "N = 128"
   ]
  },
  {
   "cell_type": "code",
   "execution_count": 170,
   "id": "1be3d7e2",
   "metadata": {},
   "outputs": [],
   "source": [
    "#cavity operators\n",
    "ac = tensor(qeye(2),destroy(N))\n",
    "xc = (ac+ac.dag())/np.sqrt(2)\n",
    "pc = 1j*(ac.dag()-ac)/np.sqrt(2)\n",
    "ic = qeye(N)\n",
    "cavity = basis(N)"
   ]
  },
  {
   "cell_type": "code",
   "execution_count": 171,
   "id": "e3445553",
   "metadata": {},
   "outputs": [],
   "source": [
    "#qubit operators\n",
    "aq = tensor(destroy(2),qeye(N))\n",
    "xq = (aq+aq.dag())/np.sqrt(2)\n",
    "pq = 1j*(aq.dag()-aq)/np.sqrt(2)\n",
    "hq = (sigmax()+sigmaz())/np.sqrt(2)\n",
    "iq = qeye(2)\n",
    "qubit = basis(2)\n",
    "\n",
    "#controlled gates\n",
    "cD = tensor(0.5*sigmaz()+0.5*qeye(2),qeye(N))+tensor(-0.5*sigmaz()+0.5*qeye(2),displace(N, np.sqrt(2*np.pi)))\n",
    "\n",
    "cDsym = tensor(0.5*sigmaz()+0.5*qeye(2),displace(N, -np.sqrt(2*np.pi)))+tensor(-0.5*sigmaz()+0.5*qeye(2),displace(N, np.sqrt(2*np.pi)))\n"
   ]
  },
  {
   "cell_type": "code",
   "execution_count": 5,
   "id": "264fa338",
   "metadata": {},
   "outputs": [],
   "source": [
    "def print_graph(psi,n):    \n",
    "    fig, ax = plt.subplots(figsize=(12,6))\n",
    "    plot_fock_distribution(psi.ptrace(1), fig = fig, ax = ax, title = \"Psi after %i rep\"%n, figsize = (10,5))\n",
    "    fig.tight_layout()\n",
    "    plt.savefig('%i'%n)"
   ]
  },
  {
   "cell_type": "code",
   "execution_count": 172,
   "id": "59e29de8",
   "metadata": {},
   "outputs": [],
   "source": [
    "# qpe algorithm\n",
    "def qpe(psi0, N, rep = 1, theta = 0):\n",
    "    \n",
    "    phase1 = qdiags([1,np.exp(1j*theta)], offsets=0)    \n",
    "    phase2 = qdiags([1,np.exp(1j*(theta+np.pi/2))], offsets=0)\n",
    "    projq = [tensor(ket2dm(basis(2,0)), qeye(N)), tensor(ket2dm(basis(2,1)), qeye(N))]\n",
    "    \n",
    "    measures1 = []\n",
    "    measures2 = []\n",
    "    fct1 = []\n",
    "    psi = psi0\n",
    "    \n",
    "    for i in range(rep):\n",
    "        psi = tensor(hq,ic)*psi\n",
    "        psi = tensor(iq,displace(N, -np.sqrt(np.pi/2)))*psi\n",
    "        psi = cD*psi\n",
    "        \n",
    "        #measure cos for half the rounds and sin in half the rounds\n",
    "        if i<rep/2:\n",
    "            psi1 = tensor(phase1,ic)*psi\n",
    "        else:\n",
    "            psi = tensor(phase2,ic)*psi\n",
    "        \n",
    "        psi = tensor(hq,ic)*psi\n",
    "        \n",
    "        m, psi = measure(psi, projq)\n",
    "        \n",
    "        # put measures for cos and sin in different \n",
    "        if i<rep/2:\n",
    "            measures1.append(m)\n",
    "        else:\n",
    "            measures2.append(m)\n",
    "        \n",
    "        fct1.append(psi)\n",
    "        #print_graph(psi,i)\n",
    "        \n",
    "    \n",
    "    return measures1, measures2, fct1"
   ]
  },
  {
   "cell_type": "code",
   "execution_count": 245,
   "id": "b92d412a",
   "metadata": {},
   "outputs": [],
   "source": [
    "# qpe algorithm\n",
    "def qpe1(psi0, N, theta = 0):\n",
    "    \n",
    "    phase = qdiags([1,np.exp(1j*theta)], offsets=0)    \n",
    "    projq = [tensor(ket2dm(basis(2,0)), qeye(N)), tensor(ket2dm(basis(2,1)), qeye(N))]\n",
    "    \n",
    "    psi = tensor(hq,ic)*psi0\n",
    "    psi = tensor(iq,displace(N, -np.sqrt(np.pi/2)))*psi\n",
    "    psi = cD*psi\n",
    "    psi = tensor(phase,ic)*psi\n",
    "    psi = tensor(hq,ic)*psi\n",
    "        \n",
    "    return measurement_statistics(psi, projq)\n",
    "\n",
    "#function for repeating the qpe\n",
    "def qpe_rep_random(psi0, rep):\n",
    "    psi = psi0\n",
    "    state_list = []\n",
    "    prob_list = []\n",
    "    measure_list = []\n",
    "    for i in range(rep):\n",
    "        state,p = qpe1(psi,N)\n",
    "        rand = random.choices([0,1], weights = p)\n",
    "        psi = state[rand[0]]\n",
    "        state_list.append(psi)\n",
    "        prob_list.append(p[rand[0]])\n",
    "        measure_list.append(rand[0])\n",
    "    \n",
    "    return state_list,prob_list, measure_list"
   ]
  },
  {
   "cell_type": "code",
   "execution_count": 215,
   "id": "ef7c1ced",
   "metadata": {},
   "outputs": [
    {
     "name": "stdout",
     "output_type": "stream",
     "text": [
      "11\n"
     ]
    }
   ],
   "source": [
    "#initial function\n",
    "psi0 = tensor(qubit,cavity)\n",
    "\n",
    "#angle\n",
    "theta = 0\n",
    "\n",
    "#number of reps\n",
    "reps = int(np.floor(np.sqrt(N)))\n",
    "print(reps)"
   ]
  },
  {
   "cell_type": "code",
   "execution_count": 320,
   "id": "5e2053ad",
   "metadata": {},
   "outputs": [],
   "source": [
    "#Statistical analysis for qpe_rep_random\n",
    "\n",
    "m = 1000\n",
    "M=2\n",
    "count0 = []\n",
    "count1 = []\n",
    "for i in range(m):\n",
    "\n",
    "    states, probs, measures = qpe_rep_random(psi0,M)\n",
    "    count0.append(measures.count(0))\n",
    "    count1.append(measures.count(1))\n",
    "\n"
   ]
  },
  {
   "cell_type": "code",
   "execution_count": 341,
   "id": "933bfd95",
   "metadata": {},
   "outputs": [
    {
     "data": {
      "text/plain": [
       "(array([118.,   0.,   0.,   0.,   0., 480.,   0.,   0.,   0., 402.]),\n",
       " array([0. , 0.2, 0.4, 0.6, 0.8, 1. , 1.2, 1.4, 1.6, 1.8, 2. ]),\n",
       " <BarContainer object of 10 artists>)"
      ]
     },
     "execution_count": 341,
     "metadata": {},
     "output_type": "execute_result"
    },
    {
     "data": {
      "image/png": "[encoded data removed]",
      "text/plain": [
       "<Figure size 640x480 with 1 Axes>"
      ]
     },
     "metadata": {},
     "output_type": "display_data"
    }
   ],
   "source": [
    "total_nb0 = [count0.count(i) for i in range(M+1)]\n",
    "total_nb1 = [count1.count(i) for i in range(M+1)]\n",
    "\n",
    "prob0 = [i/m for i in total_nb0]\n",
    "prob1 = [i/m for i in total_nb1]\n",
    "plt.hist(count0)"
   ]
  },
  {
   "cell_type": "code",
   "execution_count": 343,
   "id": "ad3c017f",
   "metadata": {},
   "outputs": [
    {
     "data": {
      "text/plain": [
       "[118, 480, 402]"
      ]
     },
     "execution_count": 343,
     "metadata": {},
     "output_type": "execute_result"
    }
   ],
   "source": [
    "prob_nb0"
   ]
  },
  {
   "cell_type": "code",
   "execution_count": 177,
   "id": "db1f15f0",
   "metadata": {},
   "outputs": [
    {
     "name": "stdout",
     "output_type": "stream",
     "text": [
      "0.0\n",
      "-0.19999999999999996\n",
      "-0.5\n"
     ]
    }
   ],
   "source": [
    "p1 = measures1.count(0)/len(measures1)\n",
    "real = 1-2*p1\n",
    "print(real)\n",
    "p2 = measures2.count(0)/len(measures2)\n",
    "img = 2*p2-1\n",
    "print(img)\n",
    "phase = np.arctan2(img,real)\n",
    "print(phase/np.pi)"
   ]
  },
  {
   "cell_type": "code",
   "execution_count": 323,
   "id": "8b9ed87e",
   "metadata": {},
   "outputs": [],
   "source": [
    "#Statistical analysis for qpe function\n",
    "\n",
    "m = 1000\n",
    "M=2\n",
    "nb0_real = []\n",
    "nb0_img = []\n",
    "for i in range(m):\n",
    "\n",
    "    m1,m2,psi = qpe(psi0,N,rep = 2*M)\n",
    "    nb0_real.append(m1.count(0))\n",
    "    #nb0_img.append(m2.count(0))\n",
    "   "
   ]
  },
  {
   "cell_type": "code",
   "execution_count": 339,
   "id": "8a3b6b28",
   "metadata": {},
   "outputs": [
    {
     "data": {
      "text/plain": [
       "(array([141.,   0.,   0.,   0.,   0., 505.,   0.,   0.,   0., 354.]),\n",
       " array([0. , 0.2, 0.4, 0.6, 0.8, 1. , 1.2, 1.4, 1.6, 1.8, 2. ]),\n",
       " <BarContainer object of 10 artists>)"
      ]
     },
     "execution_count": 339,
     "metadata": {},
     "output_type": "execute_result"
    },
    {
     "data": {
      "image/png": "[encoded data removed]",
      "text/plain": [
       "<Figure size 640x480 with 1 Axes>"
      ]
     },
     "metadata": {},
     "output_type": "display_data"
    }
   ],
   "source": [
    "total_nb0 = [count0.count(i) for i in range(M+1)]\n",
    "total_nb1 = [count1.count(i) for i in range(M+1)]\n",
    "\n",
    "prob0 = [i/m for i in total_nb0]\n",
    "prob1 = [i/m for i in total_nb1]\n",
    "plt.hist(nb0_real)"
   ]
  },
  {
   "cell_type": "code",
   "execution_count": 344,
   "id": "0f807c99",
   "metadata": {},
   "outputs": [
    {
     "data": {
      "text/plain": [
       "[0.118, 0.48, 0.402]"
      ]
     },
     "execution_count": 344,
     "metadata": {},
     "output_type": "execute_result"
    }
   ],
   "source": [
    "prob0"
   ]
  },
  {
   "cell_type": "code",
   "execution_count": 336,
   "id": "73ea7a62",
   "metadata": {},
   "outputs": [],
   "source": [
    "#Get probabilities\n",
    "\n",
    "prob_real_exact = []\n",
    "prob_real_approx = []\n",
    "M = 2\n",
    "for k in range(M+1):\n",
    "    \n",
    "    prob_approx = 0\n",
    "    prob_exact = 0\n",
    "    \n",
    "    for p1 in range(2*k+1):\n",
    "        for p2 in range(2*(M-k)+1):\n",
    "            prob_exact+=math.comb(2*k,p1)*math.comb(2*(M-k),p2)*( (-1)**(M-k+p2) )*np.exp(-np.pi*(p1+p2-M)**2)\n",
    "            if p1+p2 == M:\n",
    "                prob_approx+=math.comb(2*k,p1)*math.comb(2*(M-k),p2)*( (-1)**(M-k+p2) )\n",
    "    prob_real_exact.append(math.comb(M,k)*prob_exact/2**(2*M))\n",
    "    prob_real_approx.append(math.comb(M,k)*prob_approx/2**(2*M))\n",
    "        \n",
    "#plt.scatter([i for i in range(M+1)], prob_real_exact)\n",
    "#plt.show()"
   ]
  },
  {
   "cell_type": "code",
   "execution_count": 337,
   "id": "49329c23",
   "metadata": {},
   "outputs": [
    {
     "data": {
      "text/plain": [
       "[0.375, 0.25, 0.375]"
      ]
     },
     "execution_count": 337,
     "metadata": {},
     "output_type": "execute_result"
    }
   ],
   "source": [
    "prob_real_approx"
   ]
  },
  {
   "cell_type": "code",
   "execution_count": 335,
   "id": "b3b0ff5c",
   "metadata": {},
   "outputs": [
    {
     "data": {
      "text/plain": [
       "[0.47839304086811385, 0.5216069591318861]"
      ]
     },
     "execution_count": 335,
     "metadata": {},
     "output_type": "execute_result"
    }
   ],
   "source": [
    "prob_real_exact"
   ]
  },
  {
   "cell_type": "code",
   "execution_count": null,
   "id": "ff0c5461",
   "metadata": {},
   "outputs": [],
   "source": []
  }
 ],
 "metadata": {
  "kernelspec": {
   "display_name": "Python 3 (ipykernel)",
   "language": "python",
   "name": "python3"
  },
  "language_info": {
   "codemirror_mode": {
    "name": "ipython",
    "version": 3
   },
   "file_extension": ".py",
   "mimetype": "text/x-python",
   "name": "python",
   "nbconvert_exporter": "python",
   "pygments_lexer": "ipython3",
   "version": "3.9.13"
  }
 },
 "nbformat": 4,
 "nbformat_minor": 5
}
